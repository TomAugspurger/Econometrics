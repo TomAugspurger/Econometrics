{
 "metadata": {
  "name": "HW7_part4"
 },
 "nbformat": 3,
 "nbformat_minor": 0,
 "worksheets": [
  {
   "cells": [
    {
     "cell_type": "code",
     "collapsed": false,
     "input": [
      "from __future__ import division\n",
      "\n",
      "from math import ceil\n",
      "import pandas as pd\n",
      "import statsmodels.api as sm"
     ],
     "language": "python",
     "metadata": {},
     "outputs": [],
     "prompt_number": 28
    },
    {
     "cell_type": "code",
     "collapsed": false,
     "input": [
      "# Read the (cleaned) data in.\n",
      "df = pd.read_csv('/Users/tom/Dropbox/Economics/Econometrics/Homework/HW7/clean_LFP.csv')\n",
      "endog = df['LFP']\n",
      "exog = df[['cons', 'age', 'age_sq', 'income', 'education', 'kids']]"
     ],
     "language": "python",
     "metadata": {},
     "outputs": [],
     "prompt_number": 29
    },
    {
     "cell_type": "markdown",
     "metadata": {},
     "source": [
      "Compare the marginal effects from the three models at averages."
     ]
    },
    {
     "cell_type": "code",
     "collapsed": false,
     "input": [
      "linear_model = sm.OLS(endog, exog)\n",
      "probit_model = sm.Probit(endog, exog)\n",
      "logit_model = sm.Logit(endog, exog)"
     ],
     "language": "python",
     "metadata": {},
     "outputs": [],
     "prompt_number": 30
    },
    {
     "cell_type": "code",
     "collapsed": false,
     "input": [
      "linear_results = linear_model.fit()\n",
      "probit_results = probit_model.fit()\n",
      "logit_results = logit_model.fit()"
     ],
     "language": "python",
     "metadata": {},
     "outputs": [
      {
       "output_type": "stream",
       "stream": "stdout",
       "text": [
        "Optimization terminated successfully.\n",
        "         Current function value: 0.649303\n",
        "         Iterations 5\n",
        "Optimization terminated successfully.\n",
        "         Current function value: 0.649436\n",
        "         Iterations 5\n"
       ]
      }
     ],
     "prompt_number": 31
    },
    {
     "cell_type": "heading",
     "level": 2,
     "metadata": {},
     "source": [
      "Part (a)\n",
      "\n"
     ]
    },
    {
     "cell_type": "markdown",
     "metadata": {},
     "source": [
      "For the linear model we have the following marginal effects:"
     ]
    },
    {
     "cell_type": "code",
     "collapsed": false,
     "input": [
      "linear_results.params"
     ],
     "language": "python",
     "metadata": {},
     "outputs": [
      {
       "output_type": "pyout",
       "prompt_number": 32,
       "text": [
        "cons        -0.886607\n",
        "age          0.062191\n",
        "age_sq      -0.000826\n",
        "income       0.000001\n",
        "education    0.033716\n",
        "kids        -0.056564"
       ]
      }
     ],
     "prompt_number": 32
    },
    {
     "cell_type": "markdown",
     "metadata": {},
     "source": [
      "For the Probit model we have:"
     ]
    },
    {
     "cell_type": "code",
     "collapsed": false,
     "input": [
      "probit_marg_eff = probit_results.get_margeff(at='mean')\n",
      "probit_marg_eff.summary()"
     ],
     "language": "python",
     "metadata": {},
     "outputs": [
      {
       "html": [
        "<table class=\"simpletable\">\n",
        "<caption>Probit Marginal Effects</caption>\n",
        "<tr>\n",
        "  <th>Dep. Variable:</th>  <td>LFP</td>\n",
        "</tr>\n",
        "<tr>\n",
        "  <th>Method:</th>        <td>dydx</td>\n",
        "</tr>\n",
        "<tr>\n",
        "  <th>At:</th>            <td>mean</td>\n",
        "</tr>\n",
        "</table>\n",
        "<table class=\"simpletable\">\n",
        "<tr>\n",
        "      <th></th>         <th>dy/dx</th>    <th>std err</th>      <th>z</th>      <th>P>|z|</th> <th>[95.0% Conf. Int.]</th> \n",
        "</tr>\n",
        "<tr>\n",
        "  <th>age</th>       <td>    0.0650</td> <td>    0.025</td> <td>    2.554</td> <td> 0.011</td> <td>    0.015     0.115</td>\n",
        "</tr>\n",
        "<tr>\n",
        "  <th>age_sq</th>    <td>   -0.0009</td> <td>    0.000</td> <td>   -2.917</td> <td> 0.004</td> <td>   -0.001    -0.000</td>\n",
        "</tr>\n",
        "<tr>\n",
        "  <th>income</th>    <td>  1.57e-06</td> <td> 1.65e-06</td> <td>    0.952</td> <td> 0.341</td> <td>-1.66e-06   4.8e-06</td>\n",
        "</tr>\n",
        "<tr>\n",
        "  <th>education</th> <td>    0.0362</td> <td>    0.009</td> <td>    4.009</td> <td> 0.000</td> <td>    0.018     0.054</td>\n",
        "</tr>\n",
        "<tr>\n",
        "  <th>kids</th>      <td>   -0.0594</td> <td>    0.015</td> <td>   -3.956</td> <td> 0.000</td> <td>   -0.089    -0.030</td>\n",
        "</tr>\n",
        "</table>"
       ],
       "output_type": "pyout",
       "prompt_number": 33,
       "text": [
        "<class 'statsmodels.iolib.summary.Summary'>\n",
        "\"\"\"\n",
        "       Probit Marginal Effects       \n",
        "=====================================\n",
        "Dep. Variable:                    LFP\n",
        "Method:                          dydx\n",
        "At:                              mean\n",
        "==============================================================================\n",
        "                dy/dx    std err          z      P>|z|      [95.0% Conf. Int.]\n",
        "------------------------------------------------------------------------------\n",
        "age            0.0650      0.025      2.554      0.011         0.015     0.115\n",
        "age_sq        -0.0009      0.000     -2.917      0.004        -0.001    -0.000\n",
        "income       1.57e-06   1.65e-06      0.952      0.341     -1.66e-06   4.8e-06\n",
        "education      0.0362      0.009      4.009      0.000         0.018     0.054\n",
        "kids          -0.0594      0.015     -3.956      0.000        -0.089    -0.030\n",
        "==============================================================================\n",
        "\"\"\""
       ]
      }
     ],
     "prompt_number": 33
    },
    {
     "cell_type": "markdown",
     "metadata": {},
     "source": [
      "And for the Logit mode:"
     ]
    },
    {
     "cell_type": "code",
     "collapsed": false,
     "input": [
      "logit_marg_eff = logit_results.get_margeff(at='mean')\n",
      "logit_marg_eff.summary()"
     ],
     "language": "python",
     "metadata": {},
     "outputs": [
      {
       "html": [
        "<table class=\"simpletable\">\n",
        "<caption>Logit Marginal Effects</caption>\n",
        "<tr>\n",
        "  <th>Dep. Variable:</th>  <td>LFP</td>\n",
        "</tr>\n",
        "<tr>\n",
        "  <th>Method:</th>        <td>dydx</td>\n",
        "</tr>\n",
        "<tr>\n",
        "  <th>At:</th>            <td>mean</td>\n",
        "</tr>\n",
        "</table>\n",
        "<table class=\"simpletable\">\n",
        "<tr>\n",
        "      <th></th>         <th>dy/dx</th>    <th>std err</th>      <th>z</th>      <th>P>|z|</th> <th>[95.0% Conf. Int.]</th> \n",
        "</tr>\n",
        "<tr>\n",
        "  <th>age</th>       <td>    0.0651</td> <td>    0.026</td> <td>    2.503</td> <td> 0.012</td> <td>    0.014     0.116</td>\n",
        "</tr>\n",
        "<tr>\n",
        "  <th>age_sq</th>    <td>   -0.0009</td> <td>    0.000</td> <td>   -2.859</td> <td> 0.004</td> <td>   -0.001    -0.000</td>\n",
        "</tr>\n",
        "<tr>\n",
        "  <th>income</th>    <td> 1.657e-06</td> <td> 1.72e-06</td> <td>    0.964</td> <td> 0.335</td> <td>-1.71e-06  5.03e-06</td>\n",
        "</tr>\n",
        "<tr>\n",
        "  <th>education</th> <td>    0.0365</td> <td>    0.009</td> <td>    3.938</td> <td> 0.000</td> <td>    0.018     0.055</td>\n",
        "</tr>\n",
        "<tr>\n",
        "  <th>kids</th>      <td>   -0.0598</td> <td>    0.015</td> <td>   -3.893</td> <td> 0.000</td> <td>   -0.090    -0.030</td>\n",
        "</tr>\n",
        "</table>"
       ],
       "output_type": "pyout",
       "prompt_number": 34,
       "text": [
        "<class 'statsmodels.iolib.summary.Summary'>\n",
        "\"\"\"\n",
        "        Logit Marginal Effects       \n",
        "=====================================\n",
        "Dep. Variable:                    LFP\n",
        "Method:                          dydx\n",
        "At:                              mean\n",
        "==============================================================================\n",
        "                dy/dx    std err          z      P>|z|      [95.0% Conf. Int.]\n",
        "------------------------------------------------------------------------------\n",
        "age            0.0651      0.026      2.503      0.012         0.014     0.116\n",
        "age_sq        -0.0009      0.000     -2.859      0.004        -0.001    -0.000\n",
        "income      1.657e-06   1.72e-06      0.964      0.335     -1.71e-06  5.03e-06\n",
        "education      0.0365      0.009      3.938      0.000         0.018     0.055\n",
        "kids          -0.0598      0.015     -3.893      0.000        -0.090    -0.030\n",
        "==============================================================================\n",
        "\"\"\""
       ]
      }
     ],
     "prompt_number": 34
    },
    {
     "cell_type": "heading",
     "level": 2,
     "metadata": {},
     "source": [
      "Part (b)"
     ]
    },
    {
     "cell_type": "markdown",
     "metadata": {},
     "source": [
      "Find the expected probability of labor force participation for a woman with average values of each variable (rounded up to the nearest integer, with $age^2$ the squared value of the average of age) using the LPM and Logit models. What does this say about their comparative effectiveness?"
     ]
    },
    {
     "cell_type": "code",
     "collapsed": false,
     "input": [
      "my_means = exog.mean().apply(ceil)  # Use .apply(ceil) rather than ceil() to broadcast ceil to each the array."
     ],
     "language": "python",
     "metadata": {},
     "outputs": [],
     "prompt_number": 35
    },
    {
     "cell_type": "code",
     "collapsed": false,
     "input": [
      "#my_means['age_sq'] = my_means['age'] ** 2  # Not sure if you want round then square, or square then round."
     ],
     "language": "python",
     "metadata": {},
     "outputs": [],
     "prompt_number": 36
    },
    {
     "cell_type": "code",
     "collapsed": false,
     "input": [
      "print(my_means)"
     ],
     "language": "python",
     "metadata": {},
     "outputs": [
      {
       "output_type": "stream",
       "stream": "stdout",
       "text": [
        "cons             1\n",
        "age             43\n",
        "age_sq        1875\n",
        "income       23081\n",
        "education       13\n",
        "kids             2\n"
       ]
      }
     ],
     "prompt_number": 37
    },
    {
     "cell_type": "code",
     "collapsed": false,
     "input": [
      "y1 = linear_results.predict(my_means)\n",
      "print('From the probit model, the predicted probability of LFP for an average woman is %f') % y1"
     ],
     "language": "python",
     "metadata": {},
     "outputs": [
      {
       "output_type": "stream",
       "stream": "stdout",
       "text": [
        "From the probit model, the predicted probability of LFP for an average woman is 0.597671\n"
       ]
      }
     ],
     "prompt_number": 38
    },
    {
     "cell_type": "code",
     "collapsed": false,
     "input": [
      "y2 = logit_results.predict(my_means)\n",
      "print('From the logit model, the predicted probability of LFP for an average woman is %f') % y2"
     ],
     "language": "python",
     "metadata": {},
     "outputs": [
      {
       "output_type": "stream",
       "stream": "stdout",
       "text": [
        "From the logit model, the predicted probability of LFP for an average woman is 0.603303\n"
       ]
      }
     ],
     "prompt_number": 39
    },
    {
     "cell_type": "markdown",
     "metadata": {},
     "source": [
      "There doesn't seem to be much of a difference between the two models *at the mean*.  But the strength of the Logit model should come in the tails, where it fits much better than the LPM."
     ]
    },
    {
     "cell_type": "heading",
     "level": 2,
     "metadata": {},
     "source": [
      "Part (c): Using the Probit model,"
     ]
    },
    {
     "cell_type": "heading",
     "level": 3,
     "metadata": {},
     "source": [
      "i. Interpret the marginal effects (and their statistical and economic significance)"
     ]
    },
    {
     "cell_type": "code",
     "collapsed": false,
     "input": [
      "probit_marg_eff.summary()"
     ],
     "language": "python",
     "metadata": {},
     "outputs": [
      {
       "html": [
        "<table class=\"simpletable\">\n",
        "<caption>Probit Marginal Effects</caption>\n",
        "<tr>\n",
        "  <th>Dep. Variable:</th>  <td>LFP</td>\n",
        "</tr>\n",
        "<tr>\n",
        "  <th>Method:</th>        <td>dydx</td>\n",
        "</tr>\n",
        "<tr>\n",
        "  <th>At:</th>            <td>mean</td>\n",
        "</tr>\n",
        "</table>\n",
        "<table class=\"simpletable\">\n",
        "<tr>\n",
        "      <th></th>         <th>dy/dx</th>    <th>std err</th>      <th>z</th>      <th>P>|z|</th> <th>[95.0% Conf. Int.]</th> \n",
        "</tr>\n",
        "<tr>\n",
        "  <th>age</th>       <td>    0.0650</td> <td>    0.025</td> <td>    2.554</td> <td> 0.011</td> <td>    0.015     0.115</td>\n",
        "</tr>\n",
        "<tr>\n",
        "  <th>age_sq</th>    <td>   -0.0009</td> <td>    0.000</td> <td>   -2.917</td> <td> 0.004</td> <td>   -0.001    -0.000</td>\n",
        "</tr>\n",
        "<tr>\n",
        "  <th>income</th>    <td>  1.57e-06</td> <td> 1.65e-06</td> <td>    0.952</td> <td> 0.341</td> <td>-1.66e-06   4.8e-06</td>\n",
        "</tr>\n",
        "<tr>\n",
        "  <th>education</th> <td>    0.0362</td> <td>    0.009</td> <td>    4.009</td> <td> 0.000</td> <td>    0.018     0.054</td>\n",
        "</tr>\n",
        "<tr>\n",
        "  <th>kids</th>      <td>   -0.0594</td> <td>    0.015</td> <td>   -3.956</td> <td> 0.000</td> <td>   -0.089    -0.030</td>\n",
        "</tr>\n",
        "</table>"
       ],
       "output_type": "pyout",
       "prompt_number": 40,
       "text": [
        "<class 'statsmodels.iolib.summary.Summary'>\n",
        "\"\"\"\n",
        "       Probit Marginal Effects       \n",
        "=====================================\n",
        "Dep. Variable:                    LFP\n",
        "Method:                          dydx\n",
        "At:                              mean\n",
        "==============================================================================\n",
        "                dy/dx    std err          z      P>|z|      [95.0% Conf. Int.]\n",
        "------------------------------------------------------------------------------\n",
        "age            0.0650      0.025      2.554      0.011         0.015     0.115\n",
        "age_sq        -0.0009      0.000     -2.917      0.004        -0.001    -0.000\n",
        "income       1.57e-06   1.65e-06      0.952      0.341     -1.66e-06   4.8e-06\n",
        "education      0.0362      0.009      4.009      0.000         0.018     0.054\n",
        "kids          -0.0594      0.015     -3.956      0.000        -0.089    -0.030\n",
        "==============================================================================\n",
        "\"\"\""
       ]
      }
     ],
     "prompt_number": 40
    },
    {
     "cell_type": "markdown",
     "metadata": {},
     "source": [
      "Out of the variables, income is the one that seems unlikely to be a (statistically) significant predictor. Education is positivly related to the probability of being in the labor force; for each additional year of education, a woman's probability of being in the labor force increase by .0362 on average, *cet. par*.  Having kids, on the other hand, is negativly related with being in the workforce."
     ]
    },
    {
     "cell_type": "heading",
     "level": 3,
     "metadata": {},
     "source": [
      "ii. Does age seem to have a nonlinear effect on labor force participation? At what age is a female most likely to participate in the labor force?"
     ]
    },
    {
     "cell_type": "code",
     "collapsed": false,
     "input": [
      "print(exog['age'].describe())"
     ],
     "language": "python",
     "metadata": {},
     "outputs": [
      {
       "output_type": "stream",
       "stream": "stdout",
       "text": [
        "count    753.000000\n",
        "mean      42.537849\n",
        "std        8.072574\n",
        "min       30.000000\n",
        "25%       36.000000\n",
        "50%       43.000000\n",
        "75%       49.000000\n",
        "max       60.000000\n"
       ]
      }
     ],
     "prompt_number": 41
    },
    {
     "cell_type": "markdown",
     "metadata": {},
     "source": [
      "Age does seem to have a nonlinear effect on LFP since the $age^2$ term is statistically significant.  This might be due to older women retiring, but our oldest observation is 60 years old, so it could be due to other reasons. "
     ]
    }
   ],
   "metadata": {}
  }
 ]
}