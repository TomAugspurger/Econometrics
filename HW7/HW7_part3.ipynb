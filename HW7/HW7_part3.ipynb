{
 "metadata": {
  "name": "HW7_part3"
 },
 "nbformat": 3,
 "nbformat_minor": 0,
 "worksheets": [
  {
   "cells": [
    {
     "cell_type": "code",
     "collapsed": false,
     "input": [
      "from __future__ import division\n",
      "\n",
      "from scipy.stats import norm\n",
      "import pandas as pd\n",
      "import statsmodels.api as sm\n",
      "from scipy.stats import norm"
     ],
     "language": "python",
     "metadata": {},
     "outputs": [],
     "prompt_number": 36
    },
    {
     "cell_type": "code",
     "collapsed": false,
     "input": [
      "%load_ext rmagic"
     ],
     "language": "python",
     "metadata": {},
     "outputs": [],
     "prompt_number": 1
    },
    {
     "cell_type": "code",
     "collapsed": false,
     "input": [
      "%pylab inline"
     ],
     "language": "python",
     "metadata": {},
     "outputs": [
      {
       "output_type": "stream",
       "stream": "stdout",
       "text": [
        "\n",
        "Welcome to pylab, a matplotlib-based Python environment [backend: module://IPython.zmq.pylab.backend_inline].\n",
        "For more information, type 'help(pylab)'.\n"
       ]
      }
     ],
     "prompt_number": 2
    },
    {
     "cell_type": "code",
     "collapsed": false,
     "input": [
      "growth = pd.DataFrame(sm.iolib.foreign.genfromdta(\n",
      "    '/Users/tom/Dropbox/Economics/Econometrics/Homework/HW3/Growth.dta'))"
     ],
     "language": "python",
     "metadata": {},
     "outputs": [],
     "prompt_number": 2
    },
    {
     "cell_type": "code",
     "collapsed": false,
     "input": [
      "growth_no_malta = growth[:64]"
     ],
     "language": "python",
     "metadata": {},
     "outputs": [],
     "prompt_number": 3
    },
    {
     "cell_type": "markdown",
     "metadata": {},
     "source": [
      "Part 3. Consider again model (1) from Assignment 3. Once again using the Growth data set, but this time including the data for Malta, compare the coefficient estimates when using OLS and using LAD for the variable TradeShare. Now exclude Malta and once again compare the OLS and LAD estimators. Including Malta, which estimator might be more appropriate? What about excluding Malta? Should Malta be excluded? Explain."
     ]
    },
    {
     "cell_type": "code",
     "collapsed": false,
     "input": [
      "# Model 1: growth on trade_share, years_school\n",
      "endog = growth['growth']\n",
      "exog = ['tradeshare', 'yearsschool']\n",
      "model = sm.OLS(endog, sm.add_constant(growth[exog], prepend=True))\n",
      "results = model.fit()"
     ],
     "language": "python",
     "metadata": {},
     "outputs": [],
     "prompt_number": 8
    },
    {
     "cell_type": "code",
     "collapsed": false,
     "input": [
      "model_no_malta = sm.OLS(endog[:64], sm.add_constant(growth_no_malta[exog][:64],\n",
      "    prepend=True))\n",
      "results_no_malta = model_no_malta.fit()"
     ],
     "language": "python",
     "metadata": {},
     "outputs": [],
     "prompt_number": 9
    },
    {
     "cell_type": "markdown",
     "metadata": {},
     "source": [
      "Quantile Regression:"
     ]
    },
    {
     "cell_type": "code",
     "collapsed": false,
     "input": [
      "qr_results = quantilereg(endog, growth[exog], .5)\n",
      "qr_results_no_malta = quantilereg(endog[:64], growth_no_malta[exog], .5)"
     ],
     "language": "python",
     "metadata": {},
     "outputs": [],
     "prompt_number": 13
    },
    {
     "cell_type": "code",
     "collapsed": false,
     "input": [
      "qr_results"
     ],
     "language": "python",
     "metadata": {},
     "outputs": [
      {
       "output_type": "pyout",
       "prompt_number": 17,
       "text": [
        "array([-0.94110334,  2.97844721,  0.24827086])"
       ]
      }
     ],
     "prompt_number": 17
    },
    {
     "cell_type": "code",
     "collapsed": false,
     "input": [
      "qr_results_no_malta"
     ],
     "language": "python",
     "metadata": {},
     "outputs": [
      {
       "output_type": "pyout",
       "prompt_number": 15,
       "text": [
        "array([-0.34720146,  1.94266745,  0.20173862])"
       ]
      }
     ],
     "prompt_number": 15
    },
    {
     "cell_type": "markdown",
     "metadata": {},
     "source": [
      "Let's compare the results, first with Malta:"
     ]
    },
    {
     "cell_type": "code",
     "collapsed": false,
     "input": [
      "print(results.summary())"
     ],
     "language": "python",
     "metadata": {},
     "outputs": [
      {
       "output_type": "stream",
       "stream": "stdout",
       "text": [
        "                            OLS Regression Results                            \n",
        "==============================================================================\n",
        "Dep. Variable:                 growth   R-squared:                       0.236\n",
        "Model:                            OLS   Adj. R-squared:                  0.211\n",
        "Method:                 Least Squares   F-statistic:                     9.571\n",
        "Date:                Wed, 14 Nov 2012   Prob (F-statistic):           0.000239\n",
        "Time:                        19:48:51   Log-Likelihood:                -124.60\n",
        "No. Observations:                  65   AIC:                             255.2\n",
        "Df Residuals:                      62   BIC:                             261.7\n",
        "Df Model:                           2                                         \n",
        "===============================================================================\n",
        "                  coef    std err          t      P>|t|      [95.0% Conf. Int.]\n",
        "-------------------------------------------------------------------------------\n",
        "const          -0.3702      0.570     -0.649      0.518        -1.509     0.769\n",
        "tradeshare      2.3313      0.728      3.202      0.002         0.876     3.787\n",
        "yearsschool     0.2500      0.083      3.018      0.004         0.084     0.416\n",
        "==============================================================================\n",
        "Omnibus:                        9.942   Durbin-Watson:                   2.137\n",
        "Prob(Omnibus):                  0.007   Jarque-Bera (JB):               10.357\n",
        "Skew:                           0.738   Prob(JB):                      0.00564\n",
        "Kurtosis:                       4.282   Cond. No.                         19.9\n",
        "==============================================================================\n"
       ]
      }
     ],
     "prompt_number": 12
    },
    {
     "cell_type": "code",
     "collapsed": false,
     "input": [
      "2 * norm.cdf(results.params / results.HC0_se)  # Robust p-values (normal or t?)"
     ],
     "language": "python",
     "metadata": {},
     "outputs": [
      {
       "output_type": "pyout",
       "prompt_number": 44,
       "text": [
        "array([ 0.51712826,  1.99993789,  1.99929416])"
       ]
      }
     ],
     "prompt_number": 44
    },
    {
     "cell_type": "code",
     "collapsed": false,
     "input": [
      "print results_no_malta.summary()"
     ],
     "language": "python",
     "metadata": {},
     "outputs": [
      {
       "output_type": "stream",
       "stream": "stdout",
       "text": [
        "                            OLS Regression Results                            \n",
        "==============================================================================\n",
        "Dep. Variable:                 growth   R-squared:                       0.161\n",
        "Model:                            OLS   Adj. R-squared:                  0.133\n",
        "Method:                 Least Squares   F-statistic:                     5.836\n",
        "Date:                Wed, 14 Nov 2012   Prob (F-statistic):            0.00480\n",
        "Time:                        20:14:48   Log-Likelihood:                -122.90\n",
        "No. Observations:                  64   AIC:                             251.8\n",
        "Df Residuals:                      61   BIC:                             258.3\n",
        "Df Model:                           2                                         \n",
        "===============================================================================\n",
        "                  coef    std err          t      P>|t|      [95.0% Conf. Int.]\n",
        "-------------------------------------------------------------------------------\n",
        "const          -0.1222      0.663     -0.184      0.854        -1.447     1.203\n",
        "tradeshare      1.8978      0.936      2.027      0.047         0.026     3.770\n",
        "yearsschool     0.2430      0.084      2.903      0.005         0.076     0.410\n",
        "==============================================================================\n",
        "Omnibus:                       10.227   Durbin-Watson:                   2.156\n",
        "Prob(Omnibus):                  0.006   Jarque-Bera (JB):               10.906\n",
        "Skew:                           0.745   Prob(JB):                      0.00428\n",
        "Kurtosis:                       4.368   Cond. No.                         24.9\n",
        "==============================================================================\n"
       ]
      }
     ],
     "prompt_number": 41
    },
    {
     "cell_type": "code",
     "collapsed": false,
     "input": [
      "2 * norm.cdf(results_no_malta.params / results_no_malta.HC0_se)"
     ],
     "language": "python",
     "metadata": {},
     "outputs": [
      {
       "output_type": "pyout",
       "prompt_number": 43,
       "text": [
        "array([ 0.85624811,  1.97529047,  1.99895965])"
       ]
      }
     ],
     "prompt_number": 43
    },
    {
     "cell_type": "code",
     "collapsed": false,
     "input": [],
     "language": "python",
     "metadata": {},
     "outputs": []
    }
   ],
   "metadata": {}
  }
 ]
}