{
 "metadata": {
  "name": "HW7_part3"
 },
 "nbformat": 3,
 "nbformat_minor": 0,
 "worksheets": [
  {
   "cells": [
    {
     "cell_type": "code",
     "collapsed": false,
     "input": [
      "from __future__ import division\n",
      "\n",
      "import pandas as pd\n",
      "from pandas.tools.plotting import scatter_plot"
     ],
     "language": "python",
     "metadata": {},
     "outputs": [],
     "prompt_number": 58
    },
    {
     "cell_type": "code",
     "collapsed": false,
     "input": [
      "%load_ext rmagic\n",
      "%pylab inline"
     ],
     "language": "python",
     "metadata": {},
     "outputs": [
      {
       "output_type": "stream",
       "stream": "stdout",
       "text": [
        "\n",
        "Welcome to pylab, a matplotlib-based Python environment [backend: module://IPython.zmq.pylab.backend_inline].\n",
        "For more information, type 'help(pylab)'.\n"
       ]
      }
     ],
     "prompt_number": 59
    },
    {
     "cell_type": "code",
     "collapsed": false,
     "input": [
      "%%R # The code in R, not quite integrating with the notebook yet.\n",
      "require(quantreg)\n",
      "require(robustbase)\n",
      "\n",
      "my_data = read.csv(\"clean_growth.csv\")\n",
      "no_malta = my_data[1:64,c('country_name', 'growth', 'tradeshare', 'yearsschool')]\n",
      "\n",
      "# Regessions: growth on\n",
      "# 1: tradeshare and yearsschool\n",
      "\n",
      "l1 <- lm(growth ~ tradeshare + yearsschool, data = my_data)\n",
      "l2 <- lm(growth ~ tradeshare + yearsschool, data = no_malta)\n",
      "\n",
      "q1 <- rq(growth ~ tradeshare + yearsschool, tau=.5, data = my_data)\n",
      "q2 <- rq(growth ~ tradeshare + yearsschool, tau=.5, data = no_malta)\n",
      "\n",
      "# With malta\n",
      "summary(l1)\n",
      "summary(q1, se=\"nid\")\n",
      "\n",
      "# Without Malta \n",
      "\n",
      "summary(l2)\n",
      "summary(q2, se=\"nid\")"
     ],
     "language": "python",
     "metadata": {},
     "outputs": []
    },
    {
     "cell_type": "markdown",
     "metadata": {},
     "source": [
      "Part 3. Consider again model (1) from Assignment 3. Once again using the Growth data set, but this time including the data for Malta, compare the coefficient estimates when using OLS and using LAD for the variable TradeShare. Now exclude Malta and once again compare the OLS and LAD estimators. Including Malta, which estimator might be more appropriate? What about excluding Malta? Should Malta be excluded? Explain."
     ]
    },
    {
     "cell_type": "raw",
     "metadata": {},
     "source": [
      "> # With malta, OLS\n",
      "> summary(l1)\n",
      "\n",
      "Call:\n",
      "lm(formula = growth ~ tradeshare + yearsschool, data = my_data)\n",
      "\n",
      "Residuals:\n",
      "    Min      1Q  Median      3Q     Max \n",
      "-3.4241 -0.9282 -0.2976  0.8468  5.5795 \n",
      "\n",
      "Coefficients:\n",
      "            Estimate Std. Error t value Pr(>|t|)   \n",
      "(Intercept) -0.37015    0.56993  -0.649  0.51844   \n",
      "tradeshare   2.33129    0.72811   3.202  0.00216 **\n",
      "yearsschool  0.25003    0.08286   3.018  0.00369 **\n",
      "---\n",
      "Signif. codes:  0 \u2018***\u2019 0.001 \u2018**\u2019 0.01 \u2018*\u2019 0.05 \u2018.\u2019 0.1 \u2018 \u2019 1 \n",
      "\n",
      "Residual standard error: 1.685 on 62 degrees of freedom\n",
      "Multiple R-squared: 0.2359,\tAdjusted R-squared: 0.2113 \n",
      "F-statistic: 9.571 on 2 and 62 DF,  p-value: 0.0002386 \n"
     ]
    },
    {
     "cell_type": "raw",
     "metadata": {},
     "source": [
      "> # With Malta, LAD\n",
      "> summary(q1, se=\"nid\")\n",
      "\n",
      "Call: rq(formula = growth ~ tradeshare + yearsschool, tau = 0.5, data = my_data)\n",
      "\n",
      "tau: [1] 0.5\n",
      "\n",
      "Coefficients:\n",
      "            Value    Std. Error t value  Pr(>|t|)\n",
      "(Intercept) -0.94110  0.69942   -1.34555  0.18335\n",
      "tradeshare   2.97844  0.83849    3.55217  0.00074\n",
      "yearsschool  0.24827  0.06216    3.99383  0.00017\n",
      "> \n"
     ]
    },
    {
     "cell_type": "markdown",
     "metadata": {},
     "source": [
      "Between the two regressions with Malta, there doesn't seem to be much difference.  The coefficents on the predictors are significantly different from zero at the 5% level, and the magnitudes are roughly comparable.  However, we would tend towards the LAD estimator since we can see from the plot that Malta is an outlier, as seen below."
     ]
    },
    {
     "cell_type": "code",
     "collapsed": false,
     "input": [
      "fig = scatter_plot(growth, x='tradeshare', y='growth', grid=True)"
     ],
     "language": "python",
     "metadata": {},
     "outputs": [
      {
       "output_type": "display_data",
       "png": "[encoded data removed]"
      }
     ],
     "prompt_number": 55
    },
    {
     "cell_type": "markdown",
     "metadata": {},
     "source": [
      "Quantile Regression:"
     ]
    },
    {
     "cell_type": "raw",
     "metadata": {},
     "source": [
      "># OLS Without Malta\n",
      "> summary(l2)\n",
      "\n",
      "Call:\n",
      "lm(formula = growth ~ tradeshare + yearsschool, data = no_malta)\n",
      "\n",
      "Residuals:\n",
      "    Min      1Q  Median      3Q     Max \n",
      "-3.4896 -0.9538 -0.3304  0.7680  5.5663 \n",
      "\n",
      "Coefficients:\n",
      "            Estimate Std. Error t value Pr(>|t|)   \n",
      "(Intercept)  -0.1222     0.6627  -0.184  0.85426   \n",
      "tradeshare    1.8978     0.9361   2.027  0.04699 * \n",
      "yearsschool   0.2430     0.0837   2.903  0.00514 **\n",
      "---\n",
      "Signif. codes:  0 \u2018***\u2019 0.001 \u2018**\u2019 0.01 \u2018*\u2019 0.05 \u2018.\u2019 0.1 \u2018 \u2019 1 \n",
      "\n",
      "Residual standard error: 1.691 on 61 degrees of freedom\n",
      "Multiple R-squared: 0.1606,\tAdjusted R-squared: 0.1331 \n",
      "F-statistic: 5.836 on 2 and 61 DF,  p-value: 0.004796 \n"
     ]
    },
    {
     "cell_type": "raw",
     "metadata": {},
     "source": [
      "># LAD Without Malta\n",
      "> summary(q2, se=\"nid\")\n",
      "\n",
      "Call: rq(formula = growth ~ tradeshare + yearsschool, tau = 0.5, data = no_malta)\n",
      "\n",
      "tau: [1] 0.5\n",
      "\n",
      "Coefficients:\n",
      "            Value    Std. Error t value  Pr(>|t|)\n",
      "(Intercept) -0.34720  0.78825   -0.44048  0.66115\n",
      "tradeshare   1.94267  0.99922    1.94420  0.05649\n",
      "yearsschool  0.20174  0.07335    2.75026  0.00783\n"
     ]
    },
    {
     "cell_type": "markdown",
     "metadata": {},
     "source": [
      "Now we see that in the LAD regression, the Trade Share variable has become insignificant at the 5% level, while it (barely) remained significant in the OLS regression.  From this, we would want to use the OLS regression, rather than LAD, when dropping Malta."
     ]
    },
    {
     "cell_type": "markdown",
     "metadata": {},
     "source": [
      "Malta should be excluded if we think that it has a fundamentally different relationship between growth and our two predictors.  It is an outlier in Trade Share, probably since it is such a small, open economy.  This would indicate that dropping Malta is justified.  But, in the name of sensitivity analysis, it's probably best to provide both estimates."
     ]
    }
   ],
   "metadata": {}
  }
 ]
}